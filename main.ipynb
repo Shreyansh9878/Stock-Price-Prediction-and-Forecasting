#Feature engineering using lag features 
data_with_features = data.copy
lag_days=10
for lag in range(1,lag_days+1):
data_with_features[f'Close_lag_{lag}'] = data_with_features.groupby('symbol')['Close'].shift(lag)
# Adding rolling window features: Moving averages over different windows (e.g., 5-day, 10-day, 20-day moving average)
data_with_features['MA_5'] = data_with_features.groupby('Symbol')['Close'].transform(lambda x: x.rolling(window=5).mean())
data_with_features['MA_10'] = data_with_features.groupby('Symbol')['Close'].transform(lambda x: x.rolling(window=10).mean())
data_with_features['MA_20'] = data_with_features.groupby('Symbol')['Close'].transform(lambda x: x.rolling(window=20).mean())

# Drop rows with NaN values that were introduced due to lag features
data_with_features.dropna(inplace=True)

# Preview the data with new features
print(data_with_features.head())

# Let's inspect how the lag features look for ADANIPORTS
data_adaniports_features = data_with_features[data_with_features['Symbol'] == 'ADANIPORTS']
print(data_adaniports_features[['Close', 'Close_lag_1', 'Close_lag_2', 'Close_lag_3', 'MA_5', 'MA_10', 'MA_20']].head())

# Visualization of the new features for ADANIPORTS (Rolling averages)
plt.figure(figsize=(12, 6))
plt.plot(data_adaniports_features.index, data_adaniports_features['Close'], label='Close Price', color='blue')
plt.plot(data_adaniports_features.index, data_adaniports_features['MA_5'], label='5-day MA', color='orange')
plt.plot(data_adaniports_features.index, data_adaniports_features['MA_10'], label='10-day MA', color='green')
plt.plot(data_adaniports_features.index, data_adaniports_features['MA_20'], label='20-day MA', color='red')

plt.title('ADANIPORTS Close Price with Moving Averages')
plt.xlabel('Date')
plt.ylabel('Closing Price (INR)')
plt.grid(True)
plt.xticks(rotation=45)
plt.legend()
plt.show()

# Same visualization for ASIANPAINT
data_asianpaints_features = data_with_features[data_with_features['Symbol'] == 'ASIANPAINT']

plt.figure(figsize=(12, 6))
plt.plot(data_asianpaints_features.index, data_asianpaints_features['Close'], label='Close Price', color='blue')
plt.plot(data_asianpaints_features.index, data_asianpaints_features['MA_5'], label='5-day MA', color='orange')
plt.plot(data_asianpaints_features.index, data_asianpaints_features['MA_10'], label='10-day MA', color='green')
plt.plot(data_asianpaints_features.index, data_asianpaints_features['MA_20'], label='20-day MA', color='red')

plt.title('ASIANPAINT Close Price with Moving Averages')
plt.xlabel('Date')
plt.ylabel('Closing Price (INR)')
plt.grid(True)
plt.xticks(rotation=45)
plt.legend()
plt.show()

# After adding lag features, let's prepare the data for stock price prediction
# For simplicity, we'll use ADANIPORTS for model training

# Define the target (next day close price)
data_adaniports_features['Target'] = data_adaniports_features.groupby('Symbol')['Close'].shift(-1)

# Drop rows with NaN values in the Target column
data_adaniports_features.dropna(inplace=True)

# Select feature columns for model training (we can select lag features and moving averages)
feature_columns = [f'Close_lag_{i}' for i in range(1, lag_days + 1)] + ['MA_5', 'MA_10', 'MA_20']
X = data_adaniports_features[feature_columns]
y = data_adaniports_features['Target']

# Split data into training and testing sets
from sklearn.model_selection import train_test_split
X_train, X_test, y_train, y_test = train_test_split(X, y, test_size=0.2, shuffle=False)

# Train a model (e.g., Random Forest Regressor)
from sklearn.ensemble import RandomForestRegressor
model = RandomForestRegressor(n_estimators=100, random_state=42)
model.fit(X_train, y_train)

# Predict on the test set
y_pred = model.predict(X_test)

# Evaluate the model
from sklearn.metrics import mean_absolute_error, mean_squared_error

mae = mean_absolute_error(y_test, y_pred)
mse = mean_squared_error(y_test, y_pred)
rmse = np.sqrt(mse)

print(f"Mean Absolute Error (MAE): {mae}")
print(f"Root Mean Squared Error (RMSE): {rmse}")

# Plot the actual vs predicted prices
plt.figure(figsize=(12, 6))
plt.plot(y_test.index, y_test, label='Actual Prices', color='blue')
plt.plot(y_test.index, y_pred, label='Predicted Prices', color='red', linestyle='--')
plt.title('Actual vs Predicted Closing Prices for ADANIPORTS')
plt.xlabel('Date')
plt.ylabel('Closing Price (INR)')
plt.grid(True)
plt.xticks(rotation=45)
plt.legend()
plt.show()

















plt.show()
