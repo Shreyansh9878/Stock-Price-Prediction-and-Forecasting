#Feature engineering using lag features 
data_with_features = data.copy
lag_days=10
for lag in range(1,lag_days+1):
data_with_features[f'Close_lag_{lag}'] = data_with_features.groupby('symbol')['Close'].shift(lag)
# Adding rolling window features: Moving averages over different windows (e.g., 5-day, 10-day, 20-day moving average)
data_with_features['MA_5'] = data_with_features.groupby('Symbol')['Close'].transform(lambda x: x.rolling(window=5).mean())
data_with_features['MA_10'] = data_with_features.groupby('Symbol')['Close'].transform(lambda x: x.rolling(window=10).mean())
data_with_features['MA_20'] = data_with_features.groupby('Symbol')['Close'].transform(lambda x: x.rolling(window=20).mean())

# Drop rows with NaN values that were introduced due to lag features
data_with_features.dropna(inplace=True)

# Preview the data with new features
print(data_with_features.head())

# Let's inspect how the lag features look for ADANIPORTS
data_adaniports_features = data_with_features[data_with_features['Symbol'] == 'ADANIPORTS']
print(data_adaniports_features[['Close', 'Close_lag_1', 'Close_lag_2', 'Close_lag_3', 'MA_5', 'MA_10', 'MA_20']].head())

# Visualization of the new features for ADANIPORTS (Rolling averages)
plt.figure(figsize=(12, 6))
plt.plot(data_adaniports_features.index, data_adaniports_features['Close'], label='Close Price', color='blue')
plt.plot(data_adaniports_features.index, data_adaniports_features['MA_5'], label='5-day MA', color='orange')
plt.plot(data_adaniports_features.index, data_adaniports_features['MA_10'], label='10-day MA', color='green')
plt.plot(data_adaniports_features.index, data_adaniports_features['MA_20'], label='20-day MA', color='red')

plt.title('ADANIPORTS Close Price with Moving Averages')
plt.xlabel('Date')
plt.ylabel('Closing Price (INR)')
plt.grid(True)
plt.xticks(rotation=45)
plt.legend()
plt.show()

# Same visualization for ASIANPAINT
data_asianpaints_features = data_with_features[data_with_features['Symbol'] == 'ASIANPAINT']

plt.figure(figsize=(12, 6))
plt.plot(data_asianpaints_features.index, data_asianpaints_features['Close'], label='Close Price', color='blue')
plt.plot(data_asianpaints_features.index, data_asianpaints_features['MA_5'], label='5-day MA', color='orange')
plt.plot(data_asianpaints_features.index, data_asianpaints_features['MA_10'], label='10-day MA', color='green')
plt.plot(data_asianpaints_features.index, data_asianpaints_features['MA_20'], label='20-day MA', color='red')

plt.title('ASIANPAINT Close Price with Moving Averages')
plt.xlabel('Date')
plt.ylabel('Closing Price (INR)')
plt.grid(True)
plt.xticks(rotation=45)
plt.legend()
plt.show()

# After adding lag features, let's prepare the data for stock price prediction
# For simplicity, we'll use ADANIPORTS for model training

# Define the target (next day close price)
data_adaniports_features['Target'] = data_adaniports_features.groupby('Symbol')['Close'].shift(-1)

# Drop rows with NaN values in the Target column
data_adaniports_features.dropna(inplace=True)

# Select feature columns for model training (we can select lag features and moving averages)
feature_columns = [f'Close_lag_{i}' for i in range(1, lag_days + 1)] + ['MA_5', 'MA_10', 'MA_20']
X = data_adaniports_features[feature_columns]
y = data_adaniports_features['Target']

# Split data into training and testing sets
from sklearn.model_selection import train_test_split
X_train, X_test, y_train, y_test = train_test_split(X, y, test_size=0.2, shuffle=False)

# Train a model (e.g., Random Forest Regressor)
from sklearn.ensemble import RandomForestRegressor
model = RandomForestRegressor(n_estimators=100, random_state=42)
model.fit(X_train, y_train)

# Predict on the test set
y_pred = model.predict(X_test)

# Evaluate the model
from sklearn.metrics import mean_absolute_error, mean_squared_error

mae = mean_absolute_error(y_test, y_pred)
mse = mean_squared_error(y_test, y_pred)
rmse = np.sqrt(mse)

print(f"Mean Absolute Error (MAE): {mae}")
print(f"Root Mean Squared Error (RMSE): {rmse}")

# Plot the actual vs predicted prices
plt.figure(figsize=(12, 6))
plt.plot(y_test.index, y_test, label='Actual Prices', color='blue')
plt.plot(y_test.index, y_pred, label='Predicted Prices', color='red', linestyle='--')
plt.title('Actual vs Predicted Closing Prices for ADANIPORTS')
plt.xlabel('Date')
plt.ylabel('Closing Price (INR)')
plt.grid(True)
plt.xticks(rotation=45)
plt.legend()
plt.show()
Breakdown of the Code:
Lag Features: The closing prices of the previous 1, 2, and 3 days are added as features (Close_lag_1, Close_lag_2, Close_lag_3).
Rolling Window Features: Calculated moving averages over 5, 10, and 20 days (MA_5, MA_10, MA_20).
Model Training: Using RandomForestRegressor, we predict the next day's closing price using the lag and rolling window features.
Evaluation: The model is evaluated using Mean Absolute Error (MAE) and Root Mean Squared Error (RMSE).
Visualization: The actual vs predicted closing prices are plotted.
This feature engineering approach enhances the predictive power of time-series models by incorporating temporal dependencies.






You said:
also add prdiction of opening price in above code an dgive complete code 
ChatGPT said:
ChatGPT
To predict both the opening price and closing price, we need to make a few modifications to the previous code. We'll include an additional target for predicting the opening price, and the model will be trained to predict both Next Day Close and Next Day Open prices.

Here’s how the complete code looks after adding the opening price prediction:

Complete Code with Prediction for Opening Price and Closing Price
python
Copy code
import pandas as pd
import numpy as np
import matplotlib.pyplot as plt
from sklearn.ensemble import RandomForestRegressor
from sklearn.model_selection import train_test_split
from sklearn.metrics import mean_absolute_error, mean_squared_error

# Assume 'data' is your original dataset containing columns like 'Date', 'Symbol', 'Open', 'Close', etc.
# data = pd.read_csv('path_to_stock_data.csv') # Example of loading the dataset

# Feature Engineering using Lag features and Rolling Window features

# Create a copy of the original dataset to preserve the original data
data_with_features = data.copy()

# Define the number of lag days to include (e.g., last 3 days of closing prices)
lag_days = 3

# Adding lag features: Closing and Opening prices of previous days
for lag in range(1, lag_days + 1):
    data_with_features[f'Close_lag_{lag}'] = data_with_features.groupby('Symbol')['Close'].shift(lag)
    data_with_features[f'Open_lag_{lag}'] = data_with_features.groupby('Symbol')['Open'].shift(lag)

# Adding rolling window





You said:
also add prdiction of opening price in above code and use
 10 days for lag variable
ChatGPT said:
ChatGPT
Here’s the complete code to predict both the opening and closing stock prices using a 10-day lag feature for both the Open and Close prices. The code includes feature engineering (using lag features), model training (RandomForestRegressor), and prediction for both Next Day Open and Next Day Close prices.

Complete Code for Stock Price Prediction (Open and Close)
python
Copy code
import pandas as pd
import numpy as np
import matplotlib.pyplot as plt
from sklearn.ensemble import RandomForestRegressor
from sklearn.model_selection import train_test_split
from sklearn.metrics import mean_absolute_error, mean_squared_error

# Assuming 'data' is your dataset containing columns like 'Date', 'Symbol', 'Open', 'Close', etc.
# data = pd.read_csv('path_to_stock_data.csv') # Example: Loading the dataset

# Feature Engineering using Lag features and Rolling Window features
# Creating a copy of the original dataset to preserve the original data
data_with_features = data.copy()

# Define the number of lag days to include (e.g., last 10 days of closing and opening prices)
lag_days = 10

# Adding lag features: Closing and Opening prices of the previous days
for lag in range(1, lag_days + 1):
    data_with_features[f'Close_lag_{lag}'] = data_with_features.groupby('Symbol')['Close'].shift(lag)
    data_with_features[f'Open_lag_{lag}'] = data_with_features.groupby('Symbol')['Open'].shift(lag)

# Dropping rows with NaN values (due to lagging)
data_with_features.dropna(inplace=True)

# Define the target variables (predicting both next day's open and close prices)
data_with_features['Next_Day_Close'] = data_with_features.groupby('Symbol')['Close'].shift(-1)
data_with_features['Next_Day_Open'] = data_with_features.groupby('Symbol')['Open'].shift(-1)

# Drop rows where next day's open and close are NaN (i.e., last day of each symbol)
data_with_features.dropna(inplace=True)

# Selecting features and target variables
features = [col for col in data_with_features.columns if 'lag' in col]

X = data_with_features[features]
y_close = data_with_features['Next_Day_Close']
y_open = data_with_features['Next_Day_Open']

# Train-test split (80% train, 20% test)
X_train, X_test, y_train_close, y_test_close, y_train_open, y_test_open = train_test_split(
    X, y_close, y_open, test_size=0.2, random_state=42
)

# Initializing the model (Random Forest Regressor)
model_close = RandomForestRegressor(n_estimators=100, random_state=42)
model_open = RandomForestRegressor(n_estimators=100, random_state=42)

# Training the model for both close and open price predictions
model_close.fit(X_train, y_train_close)
model_open.fit(X_train, y_train_open)

# Predictions
predictions_close = model_close.predict(X_test)
predictions_open = model_open.predict(X_test)

# Evaluation
mae_close = mean_absolute_error(y_test_close, predictions_close)
mse_close = mean_squared_error(y_test_close, predictions_close)
rmse_close = np.sqrt(mse_close)

mae_open = mean_absolute_error(y_test_open, predictions_open)
mse_open = mean_squared_error(y_test_open, predictions_open)
rmse_open = np.sqrt(mse_open)

print(f"Closing Price Prediction - MAE: {mae_close}, RMSE: {rmse_close}")
print(f"Opening Price Prediction - MAE: {mae_open}, RMSE: {rmse_open}")

# Plotting Actual vs Predicted Prices for Close and Open
plt.figure(figsize=(14, 7))

# Plotting the Close Price Prediction
plt.subplot(1, 2, 1)
plt.plot(y_test_close.values[:100], label='Actual Close Price', color='blue')
plt.plot(predictions_close[:100], label='Predicted Close Price', color='orange')
plt.title('Actual vs Predicted Close Prices')
plt.xlabel('Samples')
plt.ylabel('Price')
plt.legend()

# Plotting the Open Price Prediction
plt.subplot(1, 2, 2)
plt.plot(y_test_open.values[:100], label='Actual Open Price', color='blue')
plt.plot(predictions_open[:100], label='Predicted Open Price', color='orange')
plt.title('Actual vs Predicted Open Prices')
plt.xlabel('Samples')
plt.ylabel('Price')
plt.legend()

plt.tight_layout()
plt.show()
