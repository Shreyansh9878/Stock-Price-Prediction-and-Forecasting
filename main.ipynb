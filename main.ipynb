{
 "cells": [
  {
   "cell_type": "code",
   "execution_count": 15,
   "metadata": {},
   "outputs": [],
   "source": [
    "import numpy as np\n",
    "import pandas as pd\n",
    "import matplotlib.pyplot as plt\n",
    "import seaborn as sns"
   ]
  },
  {
   "cell_type": "markdown",
   "metadata": {},
   "source": [
    "# Data Visualisation and EDA"
   ]
  },
  {
   "cell_type": "code",
   "execution_count": 16,
   "metadata": {},
   "outputs": [
    {
      "cell_type": "code",
      "execution_count": 1,
      "metadata": {
        "id": "1NPekVDEkTBW"
      },
      "outputs": [],
      "source": [
        "import numpy as np\n",
        "import pandas as pd\n",
        "import matplotlib.pyplot as plt\n",
        "import seaborn as sns"
      ]
    },
    {
      "cell_type": "markdown",
      "metadata": {
        "id": "5PfLEHPDkTBX"
      },
      "source": [
        "# Data Visulaisation and EDA"
      ]
    },
    {
      "cell_type": "code",
      "execution_count": 2,
      "metadata": {
        "id": "DjN1xKM_kTBX",
        "outputId": "2bde7e1d-d9b8-4ca6-83ae-bb5d003825e4",
        "colab": {
          "base_uri": "https://localhost:8080/",
          "height": 321
        }
      },
      "outputs": [
        {
          "output_type": "error",
          "ename": "FileNotFoundError",
          "evalue": "[Errno 2] No such file or directory: 'Data.csv'",
          "traceback": [
            "\u001b[0;31m---------------------------------------------------------------------------\u001b[0m",
            "\u001b[0;31mFileNotFoundError\u001b[0m                         Traceback (most recent call last)",
            "\u001b[0;32m<ipython-input-2-8e7e86be3df0>\u001b[0m in \u001b[0;36m<cell line: 2>\u001b[0;34m()\u001b[0m\n\u001b[1;32m      1\u001b[0m \u001b[0;31m# Load the dataset\u001b[0m\u001b[0;34m\u001b[0m\u001b[0;34m\u001b[0m\u001b[0m\n\u001b[0;32m----> 2\u001b[0;31m \u001b[0mdata\u001b[0m \u001b[0;34m=\u001b[0m \u001b[0mpd\u001b[0m\u001b[0;34m.\u001b[0m\u001b[0mread_csv\u001b[0m\u001b[0;34m(\u001b[0m\u001b[0;34m\"Data.csv\"\u001b[0m\u001b[0;34m)\u001b[0m\u001b[0;34m\u001b[0m\u001b[0;34m\u001b[0m\u001b[0m\n\u001b[0m\u001b[1;32m      3\u001b[0m \u001b[0mdata\u001b[0m\u001b[0;34m.\u001b[0m\u001b[0mhead\u001b[0m\u001b[0;34m(\u001b[0m\u001b[0;34m)\u001b[0m\u001b[0;34m\u001b[0m\u001b[0;34m\u001b[0m\u001b[0m\n",
            "\u001b[0;32m/usr/local/lib/python3.10/dist-packages/pandas/io/parsers/readers.py\u001b[0m in \u001b[0;36mread_csv\u001b[0;34m(filepath_or_buffer, sep, delimiter, header, names, index_col, usecols, dtype, engine, converters, true_values, false_values, skipinitialspace, skiprows, skipfooter, nrows, na_values, keep_default_na, na_filter, verbose, skip_blank_lines, parse_dates, infer_datetime_format, keep_date_col, date_parser, date_format, dayfirst, cache_dates, iterator, chunksize, compression, thousands, decimal, lineterminator, quotechar, quoting, doublequote, escapechar, comment, encoding, encoding_errors, dialect, on_bad_lines, delim_whitespace, low_memory, memory_map, float_precision, storage_options, dtype_backend)\u001b[0m\n\u001b[1;32m   1024\u001b[0m     \u001b[0mkwds\u001b[0m\u001b[0;34m.\u001b[0m\u001b[0mupdate\u001b[0m\u001b[0;34m(\u001b[0m\u001b[0mkwds_defaults\u001b[0m\u001b[0;34m)\u001b[0m\u001b[0;34m\u001b[0m\u001b[0;34m\u001b[0m\u001b[0m\n\u001b[1;32m   1025\u001b[0m \u001b[0;34m\u001b[0m\u001b[0m\n\u001b[0;32m-> 1026\u001b[0;31m     \u001b[0;32mreturn\u001b[0m \u001b[0m_read\u001b[0m\u001b[0;34m(\u001b[0m\u001b[0mfilepath_or_buffer\u001b[0m\u001b[0;34m,\u001b[0m \u001b[0mkwds\u001b[0m\u001b[0;34m)\u001b[0m\u001b[0;34m\u001b[0m\u001b[0;34m\u001b[0m\u001b[0m\n\u001b[0m\u001b[1;32m   1027\u001b[0m \u001b[0;34m\u001b[0m\u001b[0m\n\u001b[1;32m   1028\u001b[0m \u001b[0;34m\u001b[0m\u001b[0m\n",
            "\u001b[0;32m/usr/local/lib/python3.10/dist-packages/pandas/io/parsers/readers.py\u001b[0m in \u001b[0;36m_read\u001b[0;34m(filepath_or_buffer, kwds)\u001b[0m\n\u001b[1;32m    618\u001b[0m \u001b[0;34m\u001b[0m\u001b[0m\n\u001b[1;32m    619\u001b[0m     \u001b[0;31m# Create the parser.\u001b[0m\u001b[0;34m\u001b[0m\u001b[0;34m\u001b[0m\u001b[0m\n\u001b[0;32m--> 620\u001b[0;31m     \u001b[0mparser\u001b[0m \u001b[0;34m=\u001b[0m \u001b[0mTextFileReader\u001b[0m\u001b[0;34m(\u001b[0m\u001b[0mfilepath_or_buffer\u001b[0m\u001b[0;34m,\u001b[0m \u001b[0;34m**\u001b[0m\u001b[0mkwds\u001b[0m\u001b[0;34m)\u001b[0m\u001b[0;34m\u001b[0m\u001b[0;34m\u001b[0m\u001b[0m\n\u001b[0m\u001b[1;32m    621\u001b[0m \u001b[0;34m\u001b[0m\u001b[0m\n\u001b[1;32m    622\u001b[0m     \u001b[0;32mif\u001b[0m \u001b[0mchunksize\u001b[0m \u001b[0;32mor\u001b[0m \u001b[0miterator\u001b[0m\u001b[0;34m:\u001b[0m\u001b[0;34m\u001b[0m\u001b[0;34m\u001b[0m\u001b[0m\n",
            "\u001b[0;32m/usr/local/lib/python3.10/dist-packages/pandas/io/parsers/readers.py\u001b[0m in \u001b[0;36m__init__\u001b[0;34m(self, f, engine, **kwds)\u001b[0m\n\u001b[1;32m   1618\u001b[0m \u001b[0;34m\u001b[0m\u001b[0m\n\u001b[1;32m   1619\u001b[0m         \u001b[0mself\u001b[0m\u001b[0;34m.\u001b[0m\u001b[0mhandles\u001b[0m\u001b[0;34m:\u001b[0m \u001b[0mIOHandles\u001b[0m \u001b[0;34m|\u001b[0m \u001b[0;32mNone\u001b[0m \u001b[0;34m=\u001b[0m \u001b[0;32mNone\u001b[0m\u001b[0;34m\u001b[0m\u001b[0;34m\u001b[0m\u001b[0m\n\u001b[0;32m-> 1620\u001b[0;31m         \u001b[0mself\u001b[0m\u001b[0;34m.\u001b[0m\u001b[0m_engine\u001b[0m \u001b[0;34m=\u001b[0m \u001b[0mself\u001b[0m\u001b[0;34m.\u001b[0m\u001b[0m_make_engine\u001b[0m\u001b[0;34m(\u001b[0m\u001b[0mf\u001b[0m\u001b[0;34m,\u001b[0m \u001b[0mself\u001b[0m\u001b[0;34m.\u001b[0m\u001b[0mengine\u001b[0m\u001b[0;34m)\u001b[0m\u001b[0;34m\u001b[0m\u001b[0;34m\u001b[0m\u001b[0m\n\u001b[0m\u001b[1;32m   1621\u001b[0m \u001b[0;34m\u001b[0m\u001b[0m\n\u001b[1;32m   1622\u001b[0m     \u001b[0;32mdef\u001b[0m \u001b[0mclose\u001b[0m\u001b[0;34m(\u001b[0m\u001b[0mself\u001b[0m\u001b[0;34m)\u001b[0m \u001b[0;34m->\u001b[0m \u001b[0;32mNone\u001b[0m\u001b[0;34m:\u001b[0m\u001b[0;34m\u001b[0m\u001b[0;34m\u001b[0m\u001b[0m\n",
            "\u001b[0;32m/usr/local/lib/python3.10/dist-packages/pandas/io/parsers/readers.py\u001b[0m in \u001b[0;36m_make_engine\u001b[0;34m(self, f, engine)\u001b[0m\n\u001b[1;32m   1878\u001b[0m                 \u001b[0;32mif\u001b[0m \u001b[0;34m\"b\"\u001b[0m \u001b[0;32mnot\u001b[0m \u001b[0;32min\u001b[0m \u001b[0mmode\u001b[0m\u001b[0;34m:\u001b[0m\u001b[0;34m\u001b[0m\u001b[0;34m\u001b[0m\u001b[0m\n\u001b[1;32m   1879\u001b[0m                     \u001b[0mmode\u001b[0m \u001b[0;34m+=\u001b[0m \u001b[0;34m\"b\"\u001b[0m\u001b[0;34m\u001b[0m\u001b[0;34m\u001b[0m\u001b[0m\n\u001b[0;32m-> 1880\u001b[0;31m             self.handles = get_handle(\n\u001b[0m\u001b[1;32m   1881\u001b[0m                 \u001b[0mf\u001b[0m\u001b[0;34m,\u001b[0m\u001b[0;34m\u001b[0m\u001b[0;34m\u001b[0m\u001b[0m\n\u001b[1;32m   1882\u001b[0m                 \u001b[0mmode\u001b[0m\u001b[0;34m,\u001b[0m\u001b[0;34m\u001b[0m\u001b[0;34m\u001b[0m\u001b[0m\n",
            "\u001b[0;32m/usr/local/lib/python3.10/dist-packages/pandas/io/common.py\u001b[0m in \u001b[0;36mget_handle\u001b[0;34m(path_or_buf, mode, encoding, compression, memory_map, is_text, errors, storage_options)\u001b[0m\n\u001b[1;32m    871\u001b[0m         \u001b[0;32mif\u001b[0m \u001b[0mioargs\u001b[0m\u001b[0;34m.\u001b[0m\u001b[0mencoding\u001b[0m \u001b[0;32mand\u001b[0m \u001b[0;34m\"b\"\u001b[0m \u001b[0;32mnot\u001b[0m \u001b[0;32min\u001b[0m \u001b[0mioargs\u001b[0m\u001b[0;34m.\u001b[0m\u001b[0mmode\u001b[0m\u001b[0;34m:\u001b[0m\u001b[0;34m\u001b[0m\u001b[0;34m\u001b[0m\u001b[0m\n\u001b[1;32m    872\u001b[0m             \u001b[0;31m# Encoding\u001b[0m\u001b[0;34m\u001b[0m\u001b[0;34m\u001b[0m\u001b[0m\n\u001b[0;32m--> 873\u001b[0;31m             handle = open(\n\u001b[0m\u001b[1;32m    874\u001b[0m                 \u001b[0mhandle\u001b[0m\u001b[0;34m,\u001b[0m\u001b[0;34m\u001b[0m\u001b[0;34m\u001b[0m\u001b[0m\n\u001b[1;32m    875\u001b[0m                 \u001b[0mioargs\u001b[0m\u001b[0;34m.\u001b[0m\u001b[0mmode\u001b[0m\u001b[0;34m,\u001b[0m\u001b[0;34m\u001b[0m\u001b[0;34m\u001b[0m\u001b[0m\n",
            "\u001b[0;31mFileNotFoundError\u001b[0m: [Errno 2] No such file or directory: 'Data.csv'"
          ]
        }
      ],
      "source": [
        "# Load the dataset\n",
        "data = pd.read_csv(\"Data.csv\")\n",
        "data.head()"
      ]
    },
    {
      "cell_type": "code",
      "execution_count": null,
      "metadata": {
        "id": "q4Y_FGa0kTBY"
      },
      "outputs": [],
      "source": [
        "data.columns"
      ]
    },
    {
      "cell_type": "code",
      "execution_count": null,
      "metadata": {
        "id": "hFhLGcDzkTBY"
      },
      "outputs": [],
      "source": [
        "data.isnull().sum()"
      ]
    },
    {
      "cell_type": "markdown",
      "metadata": {
        "id": "UfGGy5LnkTBY"
      },
      "source": [
        "There is non-availability of data related to trades for every Stock before 2012. We have all values available for all stocks after 2012."
      ]
    },
    {
      "cell_type": "code",
      "execution_count": null,
      "metadata": {
        "id": "2Psj_YsOkTBY"
      },
      "outputs": [],
      "source": [
        "data = data[data.Date >= '2012-01-01']\n",
        "data.isnull().sum()"
      ]
    },
    {
      "cell_type": "markdown",
      "metadata": {
        "id": "COpC-sNKkTBZ"
      },
      "source": [
        "No NULL values present henceforth"
      ]
    },
    {
      "cell_type": "code",
      "execution_count": null,
      "metadata": {
        "id": "ULJpr7DnkTBZ"
      },
      "outputs": [],
      "source": [
        "Tickers = data[\"Symbol\"].unique().tolist()\n",
        "print(Tickers)\n",
        "print(f\"Total Number of Stocks: {len(Tickers)}\")"
      ]
    },
    {
      "cell_type": "markdown",
      "metadata": {
        "id": "2EwsB9RjkTBZ"
      },
      "source": [
        "There are stock data of 53 stocks present here. But since we are working on NIFTY_50 data, there should only have been 49 stocks (We dont have data on INFRATEL). There are 53 because name of 4 Tickers got changed between the time period of 2012-2021 hence we are receiving these extra 4 Symbols/Tickers. The changed ones are namely: MUNDRAPORT, UNIPHOS, SESAGOA, SSLT"
      ]
    },
    {
      "cell_type": "markdown",
      "metadata": {
        "id": "F-AMNE3IkTBZ"
      },
      "source": [
        "MUNDRAPORT and UNIPHOS were changed due to rebranding of the companies and hence data under these tickers can be used as data under their new Tickers (ADANIPORT and UPL).\n",
        "\n",
        "In cases like SESAGOA and SSLT, where the companies merged and became part of Vedanta Limited (VEDL), the business fundamentals might have changed. This means that historical data before the merger might not fully represent the current company's operations. So, data under these tickers should be ignored."
      ]
    },
    {
      "cell_type": "code",
      "execution_count": null,
      "metadata": {
        "id": "E8SHaU3ckTBZ"
      },
      "outputs": [],
      "source": [
        "symbol_mapping = {\n",
        "    'MUNDRAPORT': 'ADANIPORTS',\n",
        "    'UNIPHOS': 'UPL',\n",
        "}\n",
        "data['Symbol'] = data['Symbol'].replace(symbol_mapping)\n",
        "data = data[~data[\"Symbol\"].isin(['SESAGOA', 'SSLT'])]\n",
        "\n",
        "Tickers = data[\"Symbol\"].unique().tolist()\n",
        "print(Tickers)\n",
        "print(f\"Total Number of Stocks: {len(Tickers)}\")"
      ]
    },
    {
      "cell_type": "code",
      "execution_count": null,
      "metadata": {
        "id": "rifGiwIdkTBZ"
      },
      "outputs": [],
      "source": [
        "# Convert 'Date' column to datetime format\n",
        "data['Date'] = pd.to_datetime(data['Date'], dayfirst=True, format='mixed')\n",
        "data.index = data.Date\n",
        "data = data.drop(columns=[\"Date\"], axis=1)\n",
        "data.head()"
      ]
    },
    {
      "cell_type": "code",
      "execution_count": null,
      "metadata": {
        "id": "NU_gPOeUkTBa"
      },
      "outputs": [],
      "source": [
        "import math\n",
        "\n",
        "# Number of symbols\n",
        "num_symbols = len(Tickers)\n",
        "\n",
        "# Set up the grid layout (3 columns)\n",
        "rows = math.ceil(num_symbols / 6)\n",
        "cols = 6\n",
        "\n",
        "# Create a figure with subplots\n",
        "fig, axes = plt.subplots(rows, cols, figsize=(36, 4 * rows))\n",
        "fig.suptitle('Closing Prices for Different Symbols', fontsize=20)\n",
        "\n",
        "# Flatten axes array for easy indexing\n",
        "axes = axes.flatten()\n",
        "\n",
        "# Plot closing prices for each symbol\n",
        "for i, symbol in enumerate(Tickers):\n",
        "    # Filter data for the current symbol\n",
        "    symbol_data = data[data[\"Symbol\"] == symbol]\n",
        "\n",
        "    # Plot on the corresponding subplot\n",
        "    axes[i].plot(symbol_data.index.tolist(), symbol_data[\"Close\"], color='blue', linestyle='-', linewidth=1)\n",
        "\n",
        "    # Adding titles and labels to the current subplot\n",
        "    axes[i].set_title(f'{symbol} Closing Prices', fontsize=10)\n",
        "    axes[i].set_xlabel('Date', fontsize=8)\n",
        "    axes[i].set_ylabel('Closing Price (INR)', fontsize=8)\n",
        "\n",
        "    # Rotate the x-axis labels for better readability\n",
        "    axes[i].tick_params(axis='x', rotation=45)\n",
        "\n",
        "    # Format the x-axis date labels\n",
        "    axes[i].xaxis.set_major_formatter(plt.matplotlib.dates.DateFormatter('%Y-%m'))\n",
        "\n",
        "    # Adding gridlines\n",
        "    axes[i].grid(visible=True, linestyle='--', alpha=0.5)\n",
        "\n",
        "# Hide any unused subplots\n",
        "for j in range(i + 1, len(axes)):\n",
        "    fig.delaxes(axes[j])\n",
        "\n",
        "# Adjust layout\n",
        "plt.tight_layout(rect=[0, 0, 1, 0.96])  # Leave space for the main title\n",
        "plt.show()\n"
      ]
    },
    {
      "cell_type": "markdown",
      "metadata": {
        "id": "y6vli-M5kTBa"
      },
      "source": [
        "Here it can be seen that there are trends in stock with a sudden decrease in close price. These happen due to external factors which we are not going to model here. So, we might need to have a different eda/ model for these trends than that of regular trends."
      ]
    },
    {
      "cell_type": "code",
      "execution_count": null,
      "metadata": {
        "id": "h9ZDHco-kTBa"
      },
      "outputs": [],
      "source": [
        "# Initialize dictionaries to store categorized symbols\n",
        "stable_trend = []\n",
        "sudden_changes = []\n",
        "\n",
        "# Categorization thresholds\n",
        "change_threshold = 0.3 # For sudden change detection\n",
        "\n",
        "for symbol in Tickers:\n",
        "    # Get the closing prices for the symbol\n",
        "    symbol_data = data[data[\"Symbol\"] == symbol][\"Close\"].values\n",
        "\n",
        "    # Calculate percentage change\n",
        "    percent_changes = np.diff(symbol_data) / symbol_data[:-1]\n",
        "\n",
        "    # Detect sudden changes\n",
        "    sudden_change_detected = np.any(np.abs(percent_changes) > change_threshold)\n",
        "\n",
        "    # Categorize based on criteria\n",
        "    if sudden_change_detected:\n",
        "        sudden_changes.append(symbol)\n",
        "    else:\n",
        "        stable_trend.append(symbol)\n",
        "\n",
        "# Output results\n",
        "print(\"Stable Trend Symbols:\", stable_trend)\n",
        "print(\"Sudden Change Symbols:\", sudden_changes)"
      ]
    },
    {
      "cell_type": "markdown",
      "metadata": {
        "id": "ID9OVDnDkTBa"
      },
      "source": [
        "Here, we are going to perform EDA on one symbol of each trend intsead of a different sets of EDA for all Symbols assuming that all other symbols of same group will behave in similar fashion under EDA."
      ]
    },
    {
      "cell_type": "code",
      "execution_count": null,
      "metadata": {
        "id": "0G-8f9mKkTBa"
      },
      "outputs": [],
      "source": [
        "data_adaniports = data[data[\"Symbol\"] == 'ADANIPORTS']\n",
        "data_asianpaints = data[data[\"Symbol\"] == 'ASIANPAINT']\n",
        "\n",
        "print(\"ADANIPOTS:\")\n",
        "display(data_adaniports)\n",
        "print(\"ASIANPAINT:\")\n",
        "display(data_asianpaints)"
      ]
    },
    {
      "cell_type": "code",
      "source": [
        "print(\"ADANIPORTS\")\n",
        "display(data_adaniports.info())\n",
        "\n",
        "print(\"ASIANPAINT\")\n",
        "display(data_asianpaints.info())"
      ],
      "metadata": {
        "id": "sjMrlvvxkU8O"
      },
      "execution_count": null,
      "outputs": []
    }
  ],
  "metadata": {
    "kernelspec": {
      "display_name": "Python 3",
      "language": "python",
      "name": "python3"
    },
    "language_info": {
      "codemirror_mode": {
        "name": "ipython",
        "version": 3
      },
      "file_extension": ".py",
      "mimetype": "text/x-python",
      "name": "python",
      "nbconvert_exporter": "python",
      "pygments_lexer": "ipython3",
      "version": "3.10.10"
    },
    "colab": {
      "provenance": []
    }
<<<<<<< HEAD
   ],
   "source": [
    "data_adaniports = data[data[\"Symbol\"] == 'ADANIPORTS']\n",
    "data_asianpaints = data[data[\"Symbol\"] == 'ASIANPAINT']\n",
    "\n",
    "print(\"ADANIPORTS:\")\n",
    "display(data_adaniports)\n",
    "print(\"ASIANPAINT:\")\n",
    "display(data_asianpaints)"
   ]
  },
  {
   "cell_type": "code",
   "execution_count": 36,
   "metadata": {},
   "outputs": [
    {
     "name": "stdout",
     "output_type": "stream",
     "text": [
      "ADANIPORTS\n",
      "<class 'pandas.core.frame.DataFrame'>\n",
      "DatetimeIndex: 2311 entries, 2012-01-02 to 2021-04-30\n",
      "Data columns (total 14 columns):\n",
      " #   Column              Non-Null Count  Dtype  \n",
      "---  ------              --------------  -----  \n",
      " 0   Symbol              2311 non-null   object \n",
      " 1   Series              2311 non-null   object \n",
      " 2   Prev Close          2311 non-null   float64\n",
      " 3   Open                2311 non-null   float64\n",
      " 4   High                2311 non-null   float64\n",
      " 5   Low                 2311 non-null   float64\n",
      " 6   Last                2311 non-null   float64\n",
      " 7   Close               2311 non-null   float64\n",
      " 8   VWAP                2311 non-null   float64\n",
      " 9   Volume              2311 non-null   int64  \n",
      " 10  Turnover            2311 non-null   float64\n",
      " 11  Trades              2311 non-null   float64\n",
      " 12  Deliverable Volume  2311 non-null   float64\n",
      " 13  %Deliverble         2311 non-null   float64\n",
      "dtypes: float64(11), int64(1), object(2)\n",
      "memory usage: 270.8+ KB\n"
     ]
    },
    {
     "data": {
      "text/plain": [
       "None"
      ]
     },
     "metadata": {},
     "output_type": "display_data"
    },
    {
     "name": "stdout",
     "output_type": "stream",
     "text": [
      "ASIANPAINT\n",
      "<class 'pandas.core.frame.DataFrame'>\n",
      "DatetimeIndex: 2311 entries, 2012-01-02 to 2021-04-30\n",
      "Data columns (total 14 columns):\n",
      " #   Column              Non-Null Count  Dtype  \n",
      "---  ------              --------------  -----  \n",
      " 0   Symbol              2311 non-null   object \n",
      " 1   Series              2311 non-null   object \n",
      " 2   Prev Close          2311 non-null   float64\n",
      " 3   Open                2311 non-null   float64\n",
      " 4   High                2311 non-null   float64\n",
      " 5   Low                 2311 non-null   float64\n",
      " 6   Last                2311 non-null   float64\n",
      " 7   Close               2311 non-null   float64\n",
      " 8   VWAP                2311 non-null   float64\n",
      " 9   Volume              2311 non-null   int64  \n",
      " 10  Turnover            2311 non-null   float64\n",
      " 11  Trades              2311 non-null   float64\n",
      " 12  Deliverable Volume  2311 non-null   float64\n",
      " 13  %Deliverble         2311 non-null   float64\n",
      "dtypes: float64(11), int64(1), object(2)\n",
      "memory usage: 270.8+ KB\n"
     ]
    },
    {
     "data": {
      "text/plain": [
       "None"
      ]
     },
     "metadata": {},
     "output_type": "display_data"
    }
   ],
   "source": [
    "print(\"ADANIPORTS\")\n",
    "display(data_adaniports.info())\n",
    "\n",
    "print(\"ASIANPAINT\")\n",
    "display(data_asianpaints.info())"
   ]
  },
  {
   "cell_type": "code",
   "execution_count": 37,
   "metadata": {},
   "outputs": [
    {
     "name": "stdout",
     "output_type": "stream",
     "text": [
      "ADANIPORTS\n"
     ]
    },
    {
     "data": {
      "text/html": [
       "<div>\n",
       "<style scoped>\n",
       "    .dataframe tbody tr th:only-of-type {\n",
       "        vertical-align: middle;\n",
       "    }\n",
       "\n",
       "    .dataframe tbody tr th {\n",
       "        vertical-align: top;\n",
       "    }\n",
       "\n",
       "    .dataframe thead th {\n",
       "        text-align: right;\n",
       "    }\n",
       "</style>\n",
       "<table border=\"1\" class=\"dataframe\">\n",
       "  <thead>\n",
       "    <tr style=\"text-align: right;\">\n",
       "      <th></th>\n",
       "      <th>Prev Close</th>\n",
       "      <th>Open</th>\n",
       "      <th>High</th>\n",
       "      <th>Low</th>\n",
       "      <th>Last</th>\n",
       "      <th>Close</th>\n",
       "      <th>VWAP</th>\n",
       "      <th>Volume</th>\n",
       "      <th>Turnover</th>\n",
       "      <th>Trades</th>\n",
       "      <th>Deliverable Volume</th>\n",
       "      <th>%Deliverble</th>\n",
       "    </tr>\n",
       "  </thead>\n",
       "  <tbody>\n",
       "    <tr>\n",
       "      <th>count</th>\n",
       "      <td>2311.000000</td>\n",
       "      <td>2311.000000</td>\n",
       "      <td>2311.000000</td>\n",
       "      <td>2311.000000</td>\n",
       "      <td>2311.000000</td>\n",
       "      <td>2311.000000</td>\n",
       "      <td>2311.000000</td>\n",
       "      <td>2.311000e+03</td>\n",
       "      <td>2.311000e+03</td>\n",
       "      <td>2.311000e+03</td>\n",
       "      <td>2.311000e+03</td>\n",
       "      <td>2311.000000</td>\n",
       "    </tr>\n",
       "    <tr>\n",
       "      <th>mean</th>\n",
       "      <td>292.989139</td>\n",
       "      <td>293.558027</td>\n",
       "      <td>298.253721</td>\n",
       "      <td>288.273756</td>\n",
       "      <td>293.243250</td>\n",
       "      <td>293.253094</td>\n",
       "      <td>293.406794</td>\n",
       "      <td>3.895282e+06</td>\n",
       "      <td>1.396791e+14</td>\n",
       "      <td>4.693332e+04</td>\n",
       "      <td>1.557204e+06</td>\n",
       "      <td>0.438362</td>\n",
       "    </tr>\n",
       "    <tr>\n",
       "      <th>std</th>\n",
       "      <td>119.845717</td>\n",
       "      <td>120.247096</td>\n",
       "      <td>122.051061</td>\n",
       "      <td>118.152133</td>\n",
       "      <td>120.084791</td>\n",
       "      <td>120.136059</td>\n",
       "      <td>120.188392</td>\n",
       "      <td>4.521503e+06</td>\n",
       "      <td>3.022608e+14</td>\n",
       "      <td>5.109408e+04</td>\n",
       "      <td>1.439656e+06</td>\n",
       "      <td>0.161116</td>\n",
       "    </tr>\n",
       "    <tr>\n",
       "      <th>min</th>\n",
       "      <td>108.000000</td>\n",
       "      <td>108.000000</td>\n",
       "      <td>110.450000</td>\n",
       "      <td>105.650000</td>\n",
       "      <td>108.000000</td>\n",
       "      <td>108.000000</td>\n",
       "      <td>108.340000</td>\n",
       "      <td>1.921800e+04</td>\n",
       "      <td>2.415857e+11</td>\n",
       "      <td>3.660000e+02</td>\n",
       "      <td>5.383000e+03</td>\n",
       "      <td>0.067000</td>\n",
       "    </tr>\n",
       "    <tr>\n",
       "      <th>25%</th>\n",
       "      <td>186.225000</td>\n",
       "      <td>187.350000</td>\n",
       "      <td>190.725000</td>\n",
       "      <td>183.025000</td>\n",
       "      <td>186.450000</td>\n",
       "      <td>186.575000</td>\n",
       "      <td>186.770000</td>\n",
       "      <td>1.772452e+06</td>\n",
       "      <td>4.592122e+13</td>\n",
       "      <td>2.351100e+04</td>\n",
       "      <td>6.683330e+05</td>\n",
       "      <td>0.325000</td>\n",
       "    </tr>\n",
       "    <tr>\n",
       "      <th>50%</th>\n",
       "      <td>309.400000</td>\n",
       "      <td>309.900000</td>\n",
       "      <td>314.800000</td>\n",
       "      <td>304.000000</td>\n",
       "      <td>309.700000</td>\n",
       "      <td>309.550000</td>\n",
       "      <td>310.110000</td>\n",
       "      <td>2.830268e+06</td>\n",
       "      <td>8.685541e+13</td>\n",
       "      <td>3.777300e+04</td>\n",
       "      <td>1.163334e+06</td>\n",
       "      <td>0.438000</td>\n",
       "    </tr>\n",
       "    <tr>\n",
       "      <th>75%</th>\n",
       "      <td>370.575000</td>\n",
       "      <td>371.000000</td>\n",
       "      <td>375.700000</td>\n",
       "      <td>366.125000</td>\n",
       "      <td>370.575000</td>\n",
       "      <td>370.700000</td>\n",
       "      <td>371.290000</td>\n",
       "      <td>4.495152e+06</td>\n",
       "      <td>1.403083e+14</td>\n",
       "      <td>5.506200e+04</td>\n",
       "      <td>1.978114e+06</td>\n",
       "      <td>0.547450</td>\n",
       "    </tr>\n",
       "    <tr>\n",
       "      <th>max</th>\n",
       "      <td>835.550000</td>\n",
       "      <td>857.000000</td>\n",
       "      <td>885.000000</td>\n",
       "      <td>817.050000</td>\n",
       "      <td>849.850000</td>\n",
       "      <td>835.550000</td>\n",
       "      <td>835.160000</td>\n",
       "      <td>9.771788e+07</td>\n",
       "      <td>8.160988e+15</td>\n",
       "      <td>1.205984e+06</td>\n",
       "      <td>2.241652e+07</td>\n",
       "      <td>0.908800</td>\n",
       "    </tr>\n",
       "  </tbody>\n",
       "</table>\n",
       "</div>"
      ],
      "text/plain": [
       "        Prev Close         Open         High          Low         Last  \\\n",
       "count  2311.000000  2311.000000  2311.000000  2311.000000  2311.000000   \n",
       "mean    292.989139   293.558027   298.253721   288.273756   293.243250   \n",
       "std     119.845717   120.247096   122.051061   118.152133   120.084791   \n",
       "min     108.000000   108.000000   110.450000   105.650000   108.000000   \n",
       "25%     186.225000   187.350000   190.725000   183.025000   186.450000   \n",
       "50%     309.400000   309.900000   314.800000   304.000000   309.700000   \n",
       "75%     370.575000   371.000000   375.700000   366.125000   370.575000   \n",
       "max     835.550000   857.000000   885.000000   817.050000   849.850000   \n",
       "\n",
       "             Close         VWAP        Volume      Turnover        Trades  \\\n",
       "count  2311.000000  2311.000000  2.311000e+03  2.311000e+03  2.311000e+03   \n",
       "mean    293.253094   293.406794  3.895282e+06  1.396791e+14  4.693332e+04   \n",
       "std     120.136059   120.188392  4.521503e+06  3.022608e+14  5.109408e+04   \n",
       "min     108.000000   108.340000  1.921800e+04  2.415857e+11  3.660000e+02   \n",
       "25%     186.575000   186.770000  1.772452e+06  4.592122e+13  2.351100e+04   \n",
       "50%     309.550000   310.110000  2.830268e+06  8.685541e+13  3.777300e+04   \n",
       "75%     370.700000   371.290000  4.495152e+06  1.403083e+14  5.506200e+04   \n",
       "max     835.550000   835.160000  9.771788e+07  8.160988e+15  1.205984e+06   \n",
       "\n",
       "       Deliverable Volume  %Deliverble  \n",
       "count        2.311000e+03  2311.000000  \n",
       "mean         1.557204e+06     0.438362  \n",
       "std          1.439656e+06     0.161116  \n",
       "min          5.383000e+03     0.067000  \n",
       "25%          6.683330e+05     0.325000  \n",
       "50%          1.163334e+06     0.438000  \n",
       "75%          1.978114e+06     0.547450  \n",
       "max          2.241652e+07     0.908800  "
      ]
     },
     "metadata": {},
     "output_type": "display_data"
    },
    {
     "name": "stdout",
     "output_type": "stream",
     "text": [
      "ASIANPAINT\n"
     ]
    },
    {
     "data": {
      "text/html": [
       "<div>\n",
       "<style scoped>\n",
       "    .dataframe tbody tr th:only-of-type {\n",
       "        vertical-align: middle;\n",
       "    }\n",
       "\n",
       "    .dataframe tbody tr th {\n",
       "        vertical-align: top;\n",
       "    }\n",
       "\n",
       "    .dataframe thead th {\n",
       "        text-align: right;\n",
       "    }\n",
       "</style>\n",
       "<table border=\"1\" class=\"dataframe\">\n",
       "  <thead>\n",
       "    <tr style=\"text-align: right;\">\n",
       "      <th></th>\n",
       "      <th>Prev Close</th>\n",
       "      <th>Open</th>\n",
       "      <th>High</th>\n",
       "      <th>Low</th>\n",
       "      <th>Last</th>\n",
       "      <th>Close</th>\n",
       "      <th>VWAP</th>\n",
       "      <th>Volume</th>\n",
       "      <th>Turnover</th>\n",
       "      <th>Trades</th>\n",
       "      <th>Deliverable Volume</th>\n",
       "      <th>%Deliverble</th>\n",
       "    </tr>\n",
       "  </thead>\n",
       "  <tbody>\n",
       "    <tr>\n",
       "      <th>count</th>\n",
       "      <td>2311.000000</td>\n",
       "      <td>2311.000000</td>\n",
       "      <td>2311.000000</td>\n",
       "      <td>2311.000000</td>\n",
       "      <td>2311.000000</td>\n",
       "      <td>2311.000000</td>\n",
       "      <td>2311.000000</td>\n",
       "      <td>2.311000e+03</td>\n",
       "      <td>2.311000e+03</td>\n",
       "      <td>2311.000000</td>\n",
       "      <td>2.311000e+03</td>\n",
       "      <td>2311.000000</td>\n",
       "    </tr>\n",
       "    <tr>\n",
       "      <th>mean</th>\n",
       "      <td>1671.310255</td>\n",
       "      <td>1671.158762</td>\n",
       "      <td>1691.251579</td>\n",
       "      <td>1651.965772</td>\n",
       "      <td>1671.339269</td>\n",
       "      <td>1671.286045</td>\n",
       "      <td>1671.514561</td>\n",
       "      <td>1.123027e+06</td>\n",
       "      <td>1.527904e+14</td>\n",
       "      <td>43511.974903</td>\n",
       "      <td>5.365325e+05</td>\n",
       "      <td>0.506354</td>\n",
       "    </tr>\n",
       "    <tr>\n",
       "      <th>std</th>\n",
       "      <td>1187.525557</td>\n",
       "      <td>1185.789965</td>\n",
       "      <td>1200.666608</td>\n",
       "      <td>1174.535341</td>\n",
       "      <td>1187.597208</td>\n",
       "      <td>1187.507341</td>\n",
       "      <td>1187.704849</td>\n",
       "      <td>1.000193e+06</td>\n",
       "      <td>1.877305e+14</td>\n",
       "      <td>36476.307186</td>\n",
       "      <td>4.714082e+05</td>\n",
       "      <td>0.136485</td>\n",
       "    </tr>\n",
       "    <tr>\n",
       "      <th>min</th>\n",
       "      <td>392.000000</td>\n",
       "      <td>389.700000</td>\n",
       "      <td>402.850000</td>\n",
       "      <td>373.400000</td>\n",
       "      <td>389.300000</td>\n",
       "      <td>392.000000</td>\n",
       "      <td>386.520000</td>\n",
       "      <td>6.240000e+02</td>\n",
       "      <td>1.661499e+11</td>\n",
       "      <td>70.000000</td>\n",
       "      <td>2.790000e+02</td>\n",
       "      <td>0.076800</td>\n",
       "    </tr>\n",
       "    <tr>\n",
       "      <th>25%</th>\n",
       "      <td>862.175000</td>\n",
       "      <td>864.150000</td>\n",
       "      <td>874.700000</td>\n",
       "      <td>852.925000</td>\n",
       "      <td>863.125000</td>\n",
       "      <td>862.175000</td>\n",
       "      <td>863.540000</td>\n",
       "      <td>5.315895e+05</td>\n",
       "      <td>4.921239e+13</td>\n",
       "      <td>19452.000000</td>\n",
       "      <td>2.458300e+05</td>\n",
       "      <td>0.417500</td>\n",
       "    </tr>\n",
       "    <tr>\n",
       "      <th>50%</th>\n",
       "      <td>1200.400000</td>\n",
       "      <td>1200.250000</td>\n",
       "      <td>1213.700000</td>\n",
       "      <td>1184.000000</td>\n",
       "      <td>1197.700000</td>\n",
       "      <td>1200.400000</td>\n",
       "      <td>1199.340000</td>\n",
       "      <td>9.208750e+05</td>\n",
       "      <td>9.063455e+13</td>\n",
       "      <td>34225.000000</td>\n",
       "      <td>4.500060e+05</td>\n",
       "      <td>0.507500</td>\n",
       "    </tr>\n",
       "    <tr>\n",
       "      <th>75%</th>\n",
       "      <td>1875.975000</td>\n",
       "      <td>1878.950000</td>\n",
       "      <td>1893.125000</td>\n",
       "      <td>1856.050000</td>\n",
       "      <td>1877.450000</td>\n",
       "      <td>1875.975000</td>\n",
       "      <td>1874.565000</td>\n",
       "      <td>1.460852e+06</td>\n",
       "      <td>1.703861e+14</td>\n",
       "      <td>56609.000000</td>\n",
       "      <td>7.306480e+05</td>\n",
       "      <td>0.597450</td>\n",
       "    </tr>\n",
       "    <tr>\n",
       "      <th>max</th>\n",
       "      <td>5213.100000</td>\n",
       "      <td>5221.100000</td>\n",
       "      <td>5247.750000</td>\n",
       "      <td>5150.050000</td>\n",
       "      <td>5221.100000</td>\n",
       "      <td>5213.100000</td>\n",
       "      <td>5175.790000</td>\n",
       "      <td>1.154594e+07</td>\n",
       "      <td>2.216650e+15</td>\n",
       "      <td>351347.000000</td>\n",
       "      <td>7.938427e+06</td>\n",
       "      <td>0.958900</td>\n",
       "    </tr>\n",
       "  </tbody>\n",
       "</table>\n",
       "</div>"
      ],
      "text/plain": [
       "        Prev Close         Open         High          Low         Last  \\\n",
       "count  2311.000000  2311.000000  2311.000000  2311.000000  2311.000000   \n",
       "mean   1671.310255  1671.158762  1691.251579  1651.965772  1671.339269   \n",
       "std    1187.525557  1185.789965  1200.666608  1174.535341  1187.597208   \n",
       "min     392.000000   389.700000   402.850000   373.400000   389.300000   \n",
       "25%     862.175000   864.150000   874.700000   852.925000   863.125000   \n",
       "50%    1200.400000  1200.250000  1213.700000  1184.000000  1197.700000   \n",
       "75%    1875.975000  1878.950000  1893.125000  1856.050000  1877.450000   \n",
       "max    5213.100000  5221.100000  5247.750000  5150.050000  5221.100000   \n",
       "\n",
       "             Close         VWAP        Volume      Turnover         Trades  \\\n",
       "count  2311.000000  2311.000000  2.311000e+03  2.311000e+03    2311.000000   \n",
       "mean   1671.286045  1671.514561  1.123027e+06  1.527904e+14   43511.974903   \n",
       "std    1187.507341  1187.704849  1.000193e+06  1.877305e+14   36476.307186   \n",
       "min     392.000000   386.520000  6.240000e+02  1.661499e+11      70.000000   \n",
       "25%     862.175000   863.540000  5.315895e+05  4.921239e+13   19452.000000   \n",
       "50%    1200.400000  1199.340000  9.208750e+05  9.063455e+13   34225.000000   \n",
       "75%    1875.975000  1874.565000  1.460852e+06  1.703861e+14   56609.000000   \n",
       "max    5213.100000  5175.790000  1.154594e+07  2.216650e+15  351347.000000   \n",
       "\n",
       "       Deliverable Volume  %Deliverble  \n",
       "count        2.311000e+03  2311.000000  \n",
       "mean         5.365325e+05     0.506354  \n",
       "std          4.714082e+05     0.136485  \n",
       "min          2.790000e+02     0.076800  \n",
       "25%          2.458300e+05     0.417500  \n",
       "50%          4.500060e+05     0.507500  \n",
       "75%          7.306480e+05     0.597450  \n",
       "max          7.938427e+06     0.958900  "
      ]
     },
     "metadata": {},
     "output_type": "display_data"
    }
   ],
   "source": [
    "print(\"ADANIPORTS\")\n",
    "display(data_adaniports.describe())\n",
    "\n",
    "print(\"ASIANPAINT\")\n",
    "display(data_asianpaints.describe())"
   ]
  }
 ],
 "metadata": {
  "kernelspec": {
   "display_name": "Python 3",
   "language": "python",
   "name": "python3"
=======
>>>>>>> 14cd0cefd94a975d4b22b8338203d3db51fade52
  },
  "nbformat": 4,
  "nbformat_minor": 0
}